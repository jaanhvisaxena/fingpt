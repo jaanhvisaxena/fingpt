{
 "cells": [
  {
   "cell_type": "code",
   "id": "initial_id",
   "metadata": {
    "collapsed": true,
    "ExecuteTime": {
     "end_time": "2025-06-25T19:15:20.721378Z",
     "start_time": "2025-06-25T19:15:18.905834Z"
    }
   },
   "source": [
    "# app.py\n",
    "\n",
    "import streamlit as st\n",
    "from pdf2image import convert_from_bytes\n",
    "import pytesseract\n",
    "from PIL import Image\n",
    "\n",
    "# Set the title\n",
    "st.title(\"FinGPT - Offline OCR Document Reader\")\n",
    "\n",
    "# Upload the PDF file\n",
    "uploaded_file = st.file_uploader(\"Upload a scanned PDF document\", type=[\"pdf\"])\n",
    "\n",
    "# Optional: Set Tesseract path if not in PATH\n",
    "# pytesseract.pytesseract.tesseract_cmd = r'C:\\\\Program Files\\\\Tesseract-OCR\\\\tesseract.exe'\n",
    "\n",
    "if uploaded_file is not None:\n",
    "    st.info(\"Converting PDF to images...\")\n",
    "    images = convert_from_bytes(uploaded_file.read())\n",
    "\n",
    "    extracted_text = \"\"\n",
    "\n",
    "    for idx, img in enumerate(images):\n",
    "        st.image(img, caption=f\"Page {idx + 1}\", use_column_width=True)\n",
    "        st.text(f\"OCR Extracted Text from Page {idx + 1}:\")\n",
    "        \n",
    "        # OCR\n",
    "        text = pytesseract.image_to_string(img)\n",
    "        extracted_text += f\"\\n--- Page {idx + 1} ---\\n{text}\"\n",
    "        st.code(text)\n",
    "\n",
    "    st.download_button(\"Download Extracted Text\", extracted_text, file_name=\"ocr_output.txt\")\n",
    "\n"
   ],
   "outputs": [
    {
     "name": "stderr",
     "output_type": "stream",
     "text": [
      "2025-06-26 00:45:20.519 WARNING streamlit.runtime.scriptrunner_utils.script_run_context: Thread 'MainThread': missing ScriptRunContext! This warning can be ignored when running in bare mode.\n",
      "2025-06-26 00:45:20.712 \n",
      "  \u001B[33m\u001B[1mWarning:\u001B[0m to view this Streamlit app on a browser, run it with the following\n",
      "  command:\n",
      "\n",
      "    streamlit run C:\\college\\Internships\\FinGpt\\pythonProject\\.venv\\Lib\\site-packages\\ipykernel_launcher.py [ARGUMENTS]\n",
      "2025-06-26 00:45:20.713 Thread 'MainThread': missing ScriptRunContext! This warning can be ignored when running in bare mode.\n",
      "2025-06-26 00:45:20.714 Thread 'MainThread': missing ScriptRunContext! This warning can be ignored when running in bare mode.\n",
      "2025-06-26 00:45:20.715 Thread 'MainThread': missing ScriptRunContext! This warning can be ignored when running in bare mode.\n",
      "2025-06-26 00:45:20.715 Thread 'MainThread': missing ScriptRunContext! This warning can be ignored when running in bare mode.\n",
      "2025-06-26 00:45:20.716 Thread 'MainThread': missing ScriptRunContext! This warning can be ignored when running in bare mode.\n",
      "2025-06-26 00:45:20.717 Thread 'MainThread': missing ScriptRunContext! This warning can be ignored when running in bare mode.\n",
      "2025-06-26 00:45:20.718 Thread 'MainThread': missing ScriptRunContext! This warning can be ignored when running in bare mode.\n",
      "2025-06-26 00:45:20.718 Thread 'MainThread': missing ScriptRunContext! This warning can be ignored when running in bare mode.\n"
     ]
    }
   ],
   "execution_count": 1
  }
 ],
 "metadata": {
  "kernelspec": {
   "display_name": "Python 3",
   "language": "python",
   "name": "python3"
  },
  "language_info": {
   "codemirror_mode": {
    "name": "ipython",
    "version": 2
   },
   "file_extension": ".py",
   "mimetype": "text/x-python",
   "name": "python",
   "nbconvert_exporter": "python",
   "pygments_lexer": "ipython2",
   "version": "2.7.6"
  }
 },
 "nbformat": 4,
 "nbformat_minor": 5
}
